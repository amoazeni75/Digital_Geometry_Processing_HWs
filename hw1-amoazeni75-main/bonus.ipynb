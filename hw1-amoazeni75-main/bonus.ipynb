{
 "cells": [
  {
   "cell_type": "markdown",
   "metadata": {},
   "source": [
    "# HW1: MLS (bonus question)"
   ]
  },
  {
   "cell_type": "markdown",
   "metadata": {},
   "source": [
    "In this exercise you will:\n",
    "\n",
    "* Compute an implicit MLS function that approximates a cloud of 3D points with normals. The input points will then lie at the zero level set of the computed function.\n",
    "\n",
    "* Sample the implicit function on a three dimensional volumetric grid.\n",
    "\n",
    "* Reconstruct a triangle mesh of the zero level set of the implicit function, by using the Marching\n",
    "Cubes algorithm on the grid.\n",
    "\n",
    "* Experiment with various MLS reconstruction parameters."
   ]
  },
  {
   "cell_type": "markdown",
   "metadata": {},
   "source": [
    "## Part 0: overview"
   ]
  },
  {
   "cell_type": "code",
   "execution_count": 1,
   "metadata": {},
   "outputs": [],
   "source": [
    "#enable plugin to automatically reload the module when a method is called\n",
    "%reload_ext autoreload \n",
    "%autoreload 2\n",
    "import numpy as np\n",
    "import polyscope as ps\n",
    "from utils import read_off, to_np, bounding_box_diag\n",
    "from IPython.display import Image"
   ]
  },
  {
   "cell_type": "markdown",
   "metadata": {},
   "source": [
    "In the data/ folder we have 3D models in .off format. Lets load ./data/cat.off and see what's there"
   ]
  },
  {
   "cell_type": "code",
   "execution_count": 2,
   "metadata": {},
   "outputs": [
    {
     "name": "stdout",
     "output_type": "stream",
     "text": [
      "vertices.shape=(366, 3)\n",
      "normals.shape=(366, 3)\n",
      "faces_gt.shape=(698, 3)\n"
     ]
    }
   ],
   "source": [
    "data_path = './data/cat.off'\n",
    "vertices, faces_gt, normals = read_off(data_path)\n",
    "print(f\"{vertices.shape=}\")\n",
    "print(f\"{normals.shape=}\")\n",
    "print(f\"{faces_gt.shape=}\")"
   ]
  },
  {
   "cell_type": "markdown",
   "metadata": {},
   "source": [
    "Lets visualize the 3d model. We'll use the modern and powerful tool – [polyscope](https://polyscope.run/py/)"
   ]
  },
  {
   "cell_type": "code",
   "execution_count": 3,
   "metadata": {},
   "outputs": [
    {
     "name": "stdout",
     "output_type": "stream",
     "text": [
      "[polyscope] Backend: openGL3_glfw -- Loaded openGL version: 4.1 Metal - 83\n"
     ]
    },
    {
     "name": "stderr",
     "output_type": "stream",
     "text": [
      "GLFW emitted error: Cocoa: Failed to find service port for display\n"
     ]
    }
   ],
   "source": [
    "ps.init() # Initialization. Don't need to reinitialize each time\n",
    "if 'cat' in data_path:\n",
    "    ps.set_up_dir(\"z_up\") # Fix default camera orientation \n",
    "gt_mesh = ps.register_surface_mesh(\"gt_mesh\", vertices, faces_gt)\n",
    "gt_mesh.set_enabled(True)\n",
    "\n",
    "ps_cloud = ps.register_point_cloud('pts', vertices)\n",
    "ps_cloud.add_vector_quantity(\"Normal vec\", normals, radius=0.01, length=0.02, color=(0.2, 0.5, 0.5), enabled=True)\n",
    "\n",
    "ps.show() # a window with visualization should be opened."
   ]
  },
  {
   "cell_type": "markdown",
   "metadata": {},
   "source": [
    "## Part 1: setting up constraints"
   ]
  },
  {
   "cell_type": "markdown",
   "metadata": {},
   "source": [
    "The task of this assignment is to come up with an implicit function $f(p), p = (x,y,z)$ defined on all of the 3D space, such that the input point cloud lies at the zero level set of this function, i.e. for any point pi in the input point cloud, we have $f(p_i) = 0$. The normals of the implicit function evaluated at the point cloud locations should agree with the normals of the point cloud (also provided as input)."
   ]
  },
  {
   "cell_type": "markdown",
   "metadata": {},
   "source": [
    "The implicit function is typically interpolated from a set of given values at given points. Given the\n",
    "function values $f_i$ at some given points $p_i$ (the constrained points), the function $f$ is found by solving\n",
    "a minimization of the form $f = \\argmin_{\\phi} \\sum_{i} ||\\phi(p_i) - f_i || $ , where $\\phi(p)$ \n",
    "is any acceptable function (such as any function computed via an MLS procedure). \n",
    "The first step is thus specifying those constraints. Naturally, the input point cloud should be part of the constraints, \n",
    "with the value of $f = 0$. However, if the constraints only lie on the zero level set, most interpolation schemes will \n",
    "only generate the zero function as a result. We thus need to introduce more constraints. \n",
    "The process for generating the constraints is as follows:"
   ]
  },
  {
   "cell_type": "markdown",
   "metadata": {},
   "source": [
    "• For all point cloud points $p_i$ we know the constraint $f(p_i)$ = 0.\n",
    "\n",
    "• Fix an ε value, for instance $ε = 0.01 ×$ bounding box diagonal.\n",
    "\n",
    "• For each point $p_i$ compute $\\hat{p_{i}} = p_i + εn_i$, where $n_i$ is the normalized normal of $p_i$. Check\n",
    "whether $\\hat{p_i}$ is the closest point to $p_i$ ; if not, divide ε by 2 and recompute $\\hat{p_i}$ until this is\n",
    "the case. Then, add another constraint equation: $f (\\hat{p_i} ) = ε$.\n",
    "\n",
    "• Repeat the same process for −ε, i.e., add equations of the form $f(p^*_i) = −ε$. Dont forget\n",
    "to check that $p^*_i$ is the closest point to p_i .\n",
    "\n",
    "As a result of the steps, for the n point cloud points you get 3n equations for the\n",
    "implicit function $f(x,y,z)$."
   ]
  },
  {
   "cell_type": "markdown",
   "metadata": {},
   "source": [
    "__Task 1__: \n",
    "\n",
    "Please implement `sample_constraints(...)` in `task1_constraints.py`"
   ]
  },
  {
   "cell_type": "markdown",
   "metadata": {},
   "source": [
    "Once it is done, we can visualize the result:"
   ]
  },
  {
   "cell_type": "code",
   "execution_count": 4,
   "metadata": {},
   "outputs": [
    {
     "name": "stdout",
     "output_type": "stream",
     "text": [
      "(732, 3) (732,)\n"
     ]
    }
   ],
   "source": [
    "from task1_constraints import sample_constraints\n",
    "from tests import check_constraints\n",
    "\n",
    "bbox_diag = bounding_box_diag(vertices)\n",
    "eps = bbox_diag * 0.01 # define eps parameter for sampling = 0.01 * bounding box diagonal\n",
    "new_verts, new_vals = sample_constraints(vertices, normals, eps)\n",
    "\n",
    "all_pts = np.concatenate([vertices, new_verts])\n",
    "all_vals = np.concatenate([np.zeros(len(vertices)), new_vals])\n",
    "\n",
    "# Sampled constraints visualization\n",
    "ps.register_point_cloud('pos pts', all_pts[all_vals>0])\n",
    "ps.register_point_cloud('neg pts', all_pts[all_vals<0])\n",
    "\n",
    "ps.show()"
   ]
  },
  {
   "cell_type": "markdown",
   "metadata": {},
   "source": [
    "The result should look like ~that:\n",
    "\n",
    "<img src=\"./imgs/screenshot_000003.jpg\" width=\"800\" />"
   ]
  },
  {
   "cell_type": "markdown",
   "metadata": {},
   "source": [
    "Run tests to check if it's correct"
   ]
  },
  {
   "cell_type": "code",
   "execution_count": 5,
   "metadata": {},
   "outputs": [
    {
     "name": "stdout",
     "output_type": "stream",
     "text": [
      "\u001B[1m============================= test session starts ==============================\u001B[0m\n",
      "platform darwin -- Python 3.10.9, pytest-7.2.1, pluggy-1.0.0\n",
      "rootdir: /Users/samp8/PycharmProjects/hw1-amoazeni75\n",
      "plugins: anyio-3.6.2\n",
      "collected 1 item                                                               \u001B[0m\n",
      "\n",
      "tests.py \u001B[32m.\u001B[0m\u001B[32m                                                               [100%]\u001B[0m\n",
      "\n",
      "\u001B[32m============================== \u001B[32m\u001B[1m1 passed\u001B[0m\u001B[32m in 0.57s\u001B[0m\u001B[32m ===============================\u001B[0m\n"
     ]
    }
   ],
   "source": [
    "!pytest tests.py::test_constraints_sampling_3D"
   ]
  },
  {
   "cell_type": "markdown",
   "metadata": {},
   "source": [
    "## Part 2: MLS Interpolation"
   ]
  },
  {
   "cell_type": "markdown",
   "metadata": {},
   "source": [
    "Given the constraints, you can use interpolation to construct the implicit function. The function is not defined explicitly e.g. by a formula; instead it can be evaluated at any given point in 3D space. At any point, the function is computed as a weighted sum of polynomial functions defined on the constrained points, where the weights vary from one points to the other (MLS).\n",
    "\n",
    "More specifically:\n",
    "\n",
    "2.1 First, define a grid in space that contains the constraint points from part 1. The resolution of the grid - is a parameter to be adjusted in experiments. (it's already implemented for you)\n",
    "\n",
    "2.2 For each node of the grid compute the value of the implicit function f(x,y,z) whose zero level set approximates the point cloud. Use the moving least squares approximation\n",
    "\n",
    "* For each grid node find closest constraint vertices within a fixed radius. Check if the number of them is sufficient to build a polynomial of chosen degree \n",
    "\n",
    "* Find parameters of a polynomial that approximates the values of the constraint vertices\n",
    "    \n",
    "* Evaluate the polynomial at the grid node.\n"
   ]
  },
  {
   "cell_type": "markdown",
   "metadata": {},
   "source": [
    "This part contains 4 tasks:\n",
    "\n",
    "\n",
    " __Task 2__: \n",
    " Please implement the missing part of `predict_grid(...)` function in `task2_solver.py`. Specifically, you need to find closest constraint points in a fixed radius (local_radius). Note, that you should also specify the minimum number of neighbours required to build the polynomial of the specified degree \n",
    "\n",
    " __Task 3__: \n",
    " Please implement the missing part of `eval_grid_point(...)` function in `task2_solver.py`. Given constrain points and their values you need to build a mathematical model that maps a 3D point position to a value. Here, we propose you to use the polynomial model (max degree == 2). Its coefficients can be found via least squares optimization over constrain points. "
   ]
  },
  {
   "cell_type": "markdown",
   "metadata": {},
   "source": [
    "#### 2.1 Grid in space "
   ]
  },
  {
   "cell_type": "code",
   "execution_count": 6,
   "metadata": {},
   "outputs": [],
   "source": [
    "from task2_solver import generate_grid\n",
    "\n",
    "resolution = 30\n",
    "grid_pts, coords_matrix = generate_grid(all_pts, resolution)\n",
    "local_radius = bbox_diag * 0.1\n",
    "\n",
    "ps.register_point_cloud('grid pts', grid_pts, radius=0.001)\n",
    "ps.show()"
   ]
  },
  {
   "cell_type": "markdown",
   "metadata": {},
   "source": [
    "#### 2.2 Evaluate implicit function at the grid points"
   ]
  },
  {
   "cell_type": "code",
   "execution_count": 7,
   "metadata": {},
   "outputs": [],
   "source": [
    "from task2_solver import local_predictor\n",
    "from utils import vals2colors\n",
    "\n",
    "pred_vals = local_predictor(\n",
    "        grid_pts=grid_pts,\n",
    "        constr_pts=all_pts,\n",
    "        constr_vals=all_vals,\n",
    "        local_radius=local_radius,\n",
    "        degree=1,\n",
    "        reg_coef=1)\n",
    "\n",
    "colors = vals2colors(pred_vals) # map implicit value to color for visualization\n",
    "grid_cloud = ps.register_point_cloud('grid pts', grid_pts, radius=0.001)\n",
    "grid_cloud.add_color_quantity(\"rand colors\", colors, enabled=True)\n",
    "ps.show()"
   ]
  },
  {
   "cell_type": "markdown",
   "metadata": {},
   "source": [
    "Output should look like that:\n",
    "\n",
    "<img src=\"imgs/screenshot_000000.jpg\" width=\"800\" />"
   ]
  },
  {
   "cell_type": "markdown",
   "metadata": {},
   "source": [
    "## Part 3: Extracting the surface"
   ]
  },
  {
   "cell_type": "markdown",
   "metadata": {},
   "source": [
    "You can now use marching cubes to extract the zero isosurface from your grid. This part has been done for you."
   ]
  },
  {
   "cell_type": "code",
   "execution_count": null,
   "metadata": {},
   "outputs": [],
   "source": [
    "from skimage.measure import marching_cubes\n",
    "\n",
    "verts, faces, _, _ = marching_cubes(pred_vals.reshape([resolution, resolution, resolution]), level=0)\n",
    "verts = (coords_matrix[:3, :3] @ verts.T + coords_matrix[:3, 3:4]).T\n",
    "\n",
    "pred_mesh = ps.register_surface_mesh(\"mesh\", verts, faces)\n",
    "ps.show()"
   ]
  },
  {
   "cell_type": "markdown",
   "metadata": {},
   "source": [
    "The results should look like that:\n",
    "\n",
    "<img src=\"imgs/screenshot_000006.jpg\" width=\"800\" />"
   ]
  },
  {
   "cell_type": "markdown",
   "metadata": {},
   "source": [
    "Please also run this command in order to save renders of 3d images"
   ]
  },
  {
   "cell_type": "code",
   "execution_count": null,
   "metadata": {},
   "outputs": [],
   "source": [
    "!pytest tests.py::test_make_screens"
   ]
  },
  {
   "cell_type": "markdown",
   "metadata": {},
   "source": [
    "Run tests to check if reconstructions are good enough"
   ]
  },
  {
   "cell_type": "code",
   "execution_count": null,
   "metadata": {},
   "outputs": [],
   "source": [
    "!pytest tests.py::test_3d"
   ]
  },
  {
   "cell_type": "markdown",
   "metadata": {},
   "source": [
    "----------------"
   ]
  },
  {
   "cell_type": "markdown",
   "metadata": {},
   "source": [
    "First generate images of 3D models:\n",
    "```\n",
    "pytest tests.py::test_make_screens\n",
    "```\n",
    "Then we can add them:\n",
    "```\n",
    "git add bonus_img_saves\n",
    "```\n",
    "\n",
    "Now you can save and submit your work using git.\n",
    "To trigger auto-grading, you need to push your changes to git:\n",
    "\n",
    "```\n",
    "git add .\n",
    "git commit -m \"update\"\n",
    "git push origin main\n",
    "```\n",
    "\n",
    "After you pushed to github, an **automatic test** will start.\n",
    "You can see the result at the `Actions` tab on your github repo page."
   ]
  },
  {
   "cell_type": "markdown",
   "metadata": {},
   "source": []
  }
 ],
 "metadata": {
  "kernelspec": {
   "display_name": "base",
   "language": "python",
   "name": "base"
  },
  "language_info": {
   "codemirror_mode": {
    "name": "ipython",
    "version": 3
   },
   "file_extension": ".py",
   "mimetype": "text/x-python",
   "name": "python",
   "nbconvert_exporter": "python",
   "pygments_lexer": "ipython3",
   "version": "3.10.9"
  },
  "vscode": {
   "interpreter": {
    "hash": "c1c64bdd75c21146a8e6f5b807e3056c2e659cf3b20271aa288d59c1abdce286"
   }
  }
 },
 "nbformat": 4,
 "nbformat_minor": 2
}
